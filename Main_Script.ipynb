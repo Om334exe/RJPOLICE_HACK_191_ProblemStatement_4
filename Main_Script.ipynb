{
  "nbformat": 4,
  "nbformat_minor": 0,
  "metadata": {
    "colab": {
      "provenance": [],
      "authorship_tag": "ABX9TyNNV5pmW3+qKENfsHZL1RQy",
      "include_colab_link": true
    },
    "kernelspec": {
      "name": "python3",
      "display_name": "Python 3"
    },
    "language_info": {
      "name": "python"
    }
  },
  "cells": [
    {
      "cell_type": "markdown",
      "metadata": {
        "id": "view-in-github",
        "colab_type": "text"
      },
      "source": [
        "<a href=\"https://colab.research.google.com/github/Om334exe/RJPOLICE_HACK_191_ProblemStatement_4/blob/main/Main_Script.ipynb\" target=\"_parent\"><img src=\"https://colab.research.google.com/assets/colab-badge.svg\" alt=\"Open In Colab\"/></a>"
      ]
    },
    {
      "cell_type": "code",
      "source": [
        "import easyocr\n",
        "from googletrans import Translator\n",
        "from PIL import Image\n",
        "import pandas as pd\n",
        "from fuzzywuzzy import fuzz\n",
        "import spacy\n",
        "\n",
        "# Load spaCy English model\n",
        "nlp = spacy.load(\"en_core_web_md\")\n",
        "\n",
        "# Function to detect text using EasyOCR\n",
        "def detect_text_with_easyocr(image_path, language='hi'):\n",
        "    reader = easyocr.Reader([language])\n",
        "    result = reader.readtext(image_path)\n",
        "    return result\n",
        "\n",
        "# Function to translate text from Hindi to English\n",
        "def translate_text(text, target_language='en'):\n",
        "    translator = Translator()\n",
        "    translation = translator.translate(text, dest=target_language)\n",
        "    return translation.text\n",
        "\n",
        "# Function to match the English text with IPC sections using spaCy and fuzzy matching\n",
        "def match_ipc_section(english_text, ipc_dataset):\n",
        "    # Initialize variables for best match and score\n",
        "    best_match = None\n",
        "    best_score = 0\n",
        "\n",
        "    # Iterate through dataset entries\n",
        "    for index, row in ipc_dataset.iterrows():\n",
        "        # Extract the description from the dataset\n",
        "        description = str(row['Description'])\n",
        "\n",
        "        # Calculate the semantic similarity score using spaCy\n",
        "        semantic_score = nlp(english_text).similarity(nlp(description))\n",
        "\n",
        "        # Calculate the fuzzy match score\n",
        "        fuzzy_score = fuzz.ratio(english_text, description)\n",
        "\n",
        "        # Combine scores to get an overall score\n",
        "        overall_score = (semantic_score + fuzzy_score) / 2\n",
        "\n",
        "        # Update best match if the current score is higher\n",
        "        if overall_score > best_score:\n",
        "            best_score = overall_score\n",
        "            best_match = row\n",
        "\n",
        "    return best_match, best_score\n",
        "\n",
        "# Load an example image (replace 'image_path' with the actual path to your image in Colab)\n",
        "image_path = '/content/fir_image.png'\n",
        "image = Image.open(image_path)\n",
        "\n",
        "# Use EasyOCR to detect and read text in Hindi\n",
        "text_results = detect_text_with_easyocr(image_path, language='hi')\n",
        "\n",
        "# Extract the text from the results\n",
        "hindi_text = ' '.join(result[1] for result in text_results)\n",
        "\n",
        "# Translate the Hindi text to English\n",
        "english_text = translate_text(hindi_text, target_language='en')\n",
        "\n",
        "# Load your IPC dataset\n",
        "ipc_dataset_path = '/content/FIR_DATASET.csv'\n",
        "ipc_dataset = pd.read_csv(ipc_dataset_path)\n",
        "\n",
        "# Match the text with IPC sections using spaCy and fuzzy matching\n",
        "matched_section, match_score = match_ipc_section(english_text, ipc_dataset)\n",
        "\n",
        "# Display the result\n",
        "print(\"Original Hindi Text:\")\n",
        "print(hindi_text)\n",
        "\n",
        "print(\"\\nTranslated English Text:\")\n",
        "print(english_text)\n",
        "\n",
        "print(\"\\nBest Matched IPC Section:\")\n",
        "print(matched_section)\n",
        "print(\"\\nMatch Score:\")\n",
        "print(match_score)"
      ],
      "metadata": {
        "colab": {
          "base_uri": "https://localhost:8080/"
        },
        "id": "xk1Q_HFObmCJ",
        "outputId": "e4f70d5d-4f91-43ec-eb4c-ee94d82674f3"
      },
      "execution_count": null,
      "outputs": [
        {
          "output_type": "stream",
          "name": "stderr",
          "text": [
            "WARNING:easyocr.easyocr:Neither CUDA nor MPS are available - defaulting to CPU. Note: This module is much faster with a GPU.\n"
          ]
        },
        {
          "output_type": "stream",
          "name": "stdout",
          "text": [
            "Original Hindi Text:\n",
            "कार्यवाही   पुलिस प्रमाणित किया जाता है कि उपरोक्त टाईप शुदा बिना नम्बरी प्रथम सूचना रिपोर्ट श्री वेदप्रकाश लखोटिया , उप अधीक्षक पुलिस , भ्रष्टचार निरोधक ब्यूरा , श्रीगंगनगर  द्वितीय ने प्रेषित की हे| मजमून रिपोर्ट से जुर्मं अन्तर्गत धारा 1३(1)(सी)(डी), सपठित धारा 13(2 ) भ्रष्टाचार निवारण अधिनियम 1988 एवं भादंसं न अभियुक्त श्री इन्द्राज पुनिया पुत्र श्री नत्थूराम पूनिया , तत्कालीन संरपच ग्राम पंचयत रिडमलसर , पंचयत समिति पदमपुर जिला श्रीगंगानगर , एवं अन्य क विरूद्ध घटित   होना पाया जता है| अंतः अपरध संख्या 314/2023 उपरोक्त   धाराओं में दर्ज   कर प्रथम सूचना रिपोर्ट की प्रतियाॅ   नियमानुसार कता कर तफ्तीश   जारी   है| २) विशनाराम , पुलिस अधोक्षक , श्रष्टाचार निरोधक   ब्यूरो , जयपुर/ कनांकः- 3190-94 दिनांक 29.12.2023 प्रतिलिपि:- एवं अवश्यक कार्यवाही   हेतु   प्रेषित   है| १. विशिष्ठ न्यायाधीश   एवं  सैशन न्यायलय भ्रष्टाचार निवारण   अधिनियम, श्रीगंगानगर| 2. पुलिस अधीक्षक , भ्रष्टाचार निरोधक ब्यूरो॰ बोकानेर| 3. निदेशक, ग्रामीण विकास   एवं पंचायतो राज विभाग , राजस्थान , जयपुर| ४. अतिरिक्त पुलिस   अधीक्षक , भ्रष्टचार निरोधक   ब्यूरो, श्रीगंगानगर  द्वितीय| ५. अतिरिक्त पुलिस   अधीक्षक परि. ) , श्रष्टाचार निरोधक ब्यूरा , जयपुर  ( परि. १8/२० ) पुलिस अधोक्षक भ्रष्टचार निरोधक   ब्यूरो, जयपुर / १२०बो <.12 सूचनार्थ\n",
            "\n",
            "Translated English Text:\n",
            "The proceedings are certified by the police that the above type of Nambari first information report was sent by Mr. Vedprakash Lakhotia, Deputy Superintendent Police, Prevention of Corruption Bureau, Srigangnagar II.Section 13 (1) (c) (d) under the crime from the Majmoon report, It is found to happen against others.Interstate number 314/2023 The investigation is going on by registering the first information report by registering in the above sections.2) Vishanaram, Police Officer, Prevention of Corruption Bureau, Jaipur/ Kanank:- 3190-94 dated 29.12.2023 copy:- And is sent for necessary action.1.Special Judge and Sessions Court Prevention of Corruption Act, Sriganganagar |2. Superintendent of Police, Anti -Corruption Bureau ॰ Bokaner |3. Director, Rural Development and Panchayat Raj Department, Rajasthan, Jaipur |4.Additional Superintendent of Police, Anti -Corruption Bureau, Sriganganagar II |5.Additional Superintendent of Police.), Prevention of Protection Bureau, Jaipur (Par. 18/20) Police Adhocker Anti -Corruption Bureau, Jaipur / 120 Bo <.12 for information\n",
            "\n",
            "Best Matched IPC Section:\n",
            "URL            https://lawrato.com/indian-kanoon/ipc/section-479\n",
            "Description    Description of IPC Section 479\\nAccording to s...\n",
            "Offense                                                      NaN\n",
            "Punishment                                                   NaN\n",
            "Cognizable                                                   NaN\n",
            "Bailable                                                     NaN\n",
            "Court                                                        NaN\n",
            "Name: 405, dtype: object\n",
            "\n",
            "Match Score:\n",
            "9.386632900187188\n"
          ]
        }
      ]
    },
    {
      "cell_type": "code",
      "source": [],
      "metadata": {
        "id": "DitS5ogPDcz0"
      },
      "execution_count": null,
      "outputs": []
    }
  ]
}